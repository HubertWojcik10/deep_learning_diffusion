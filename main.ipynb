{
 "cells": [
  {
   "cell_type": "code",
   "execution_count": 12,
   "metadata": {},
   "outputs": [],
   "source": [
    "import torchvision.datasets as datasets\n",
    "from torch.utils.data import DataLoader\n",
    "import torch\n",
    "import torchvision.transforms as transforms\n",
    "import matplotlib.pyplot as plt\n",
    "from scheduler import NoiseScheduler"
   ]
  },
  {
   "cell_type": "markdown",
   "metadata": {},
   "source": [
    "# Get data"
   ]
  },
  {
   "cell_type": "code",
   "execution_count": 13,
   "metadata": {},
   "outputs": [
    {
     "data": {
      "text/plain": [
       "torch.Size([1, 1, 28, 28])"
      ]
     },
     "execution_count": 13,
     "metadata": {},
     "output_type": "execute_result"
    }
   ],
   "source": [
    "batch_size = 1\n",
    "transform = transforms.Compose([transforms.ToTensor(), transforms.Normalize((0.5,), (0.5,))])\n",
    "trainset = datasets.MNIST(root='./data', train=True, download=True, transform=transform)\n",
    "trainloader = DataLoader(trainset, batch_size=batch_size, shuffle=True, num_workers=2)\n",
    "testset = datasets.MNIST(root='./data', train=False, download=True, transform=transform)\n",
    "testloader = DataLoader(testset, batch_size=batch_size, shuffle=False, num_workers=2)\n",
    "\n",
    "next(iter(trainloader))[0].shape"
   ]
  },
  {
   "cell_type": "markdown",
   "metadata": {},
   "source": [
    "# Noise Scheduler"
   ]
  },
  {
   "cell_type": "markdown",
   "metadata": {},
   "source": [
    "### Formulas Used in NoiseScheduler\n",
    "\n",
    "#### 1. Betas Initialization:\n",
    "$$\n",
    "\\beta_i = \\text{linspace}(\\text{beta\\_start}, \\text{beta\\_end}, t)\n",
    "$$\n",
    "\n",
    "#### 2. Alphas Calculation:\n",
    "$$\n",
    "\\alpha_i = 1 - \\beta_i\n",
    "$$\n",
    "\n",
    "#### 3. Cumulative Product of Alphas:\n",
    "$$\n",
    "\\overline{\\alpha_t} = \\prod_{j=1}^{i} \\alpha_j\n",
    "$$\n",
    "\n",
    "#### 4. Square Root of Cumulative Alpha and Complement:\n",
    "$$\n",
    "\\sqrt{\\overline{\\alpha_t}} = \\sqrt{\\overline{\\alpha_t}}\n",
    "$$\n",
    "$$\n",
    "\\sqrt{1 - \\overline{\\alpha_t}} = \\sqrt{1 - \\overline{\\alpha_t}}\n",
    "$$\n",
    "\n",
    "---\n",
    "\n",
    "### Adding Noise (Method `add_noise`)\n",
    "\n",
    "The noisy input is computed as:\n",
    "$$\n",
    "\\tilde{x}_t = \\sqrt{\\overline{\\alpha_t}} \\cdot x + \\sqrt{1 - \\overline{\\alpha_t}} \\cdot \\epsilon\n",
    "$$\n",
    "\n",
    "Where:\n",
    "$$\n",
    "\\sqrt{\\overline{\\alpha_t}} \\text{ and } \\sqrt{1 - \\overline{\\alpha_t}} \\text{ are broadcasted to match the batch dimensions.}\n",
    "$$\n",
    "\n",
    "---\n",
    "\n",
    "### Sampling the Previous Timestep (Method `sample_prev_timestep`)\n",
    "\n",
    "#### (a) Compute $x_0$ (Reconstructed Signal):\n",
    "$$\n",
    "x_0 = \\frac{x_t - \\sqrt{1 - \\overline{\\alpha_t}} \\cdot \\text{noise\\_pred}}{\\sqrt{\\overline{\\alpha_t}}}\n",
    "$$\n",
    "\n",
    "Clamp $x_0$ to the range $[-1, 1]$:\n",
    "$$\n",
    "x_0 = \\text{clamp}(x_0, -1, 1)\n",
    "$$\n",
    "\n",
    "#### (b) Compute Mean for Sampling:\n",
    "$$\n",
    "\\text{mean} = \\frac{x_t - \\frac{\\beta_t \\cdot \\text{noise\\_pred}}{\\sqrt{1 - \\overline{\\alpha_t}}}}{\\sqrt{\\alpha_t}}\n",
    "$$\n",
    "\n",
    "#### (c) Compute Variance for $t > 0$:\n",
    "$$\n",
    "\\text{variance} = \\frac{1 - \\overline{\\alpha_{t-1}}}{1 - \\overline{\\alpha_t}} \\cdot \\beta_t\n",
    "$$\n",
    "\n",
    "Standard deviation ($\\sigma$):\n",
    "$$\n",
    "\\sigma = \\sqrt{\\text{variance}}\n",
    "$$\n",
    "\n",
    "#### (d) Add Noise to the Mean (for $t > 0$):\n",
    "$$\n",
    "\\tilde{x}_{t-1} = \\text{mean} + \\sigma \\cdot z\n",
    "$$\n",
    "\n",
    "Where$$ z \\sim \\mathcal{N}(0, I) $$is standard normal noise.\n"
   ]
  },
  {
   "cell_type": "code",
   "execution_count": 14,
   "metadata": {},
   "outputs": [],
   "source": [
    "test = NoiseScheduler(4, 0.1, 0.9)\n",
    "test_batch = next(iter(trainloader))[0]\n",
    "test_noise = torch.randn(test_batch.shape)\n",
    "test_t = 2\n",
    "test_time_t=test.add_noise(test_batch, test_noise, test_t)\n"
   ]
  },
  {
   "cell_type": "code",
   "execution_count": 15,
   "metadata": {},
   "outputs": [],
   "source": [
    "test_time_minus_1, test_x0 = test.sample_prev_timestep(test_time_t, test_noise, test_t)"
   ]
  },
  {
   "cell_type": "code",
   "execution_count": 16,
   "metadata": {},
   "outputs": [
    {
     "data": {
      "image/png": "[encoded data removed]",
      "text/plain": [
       "<Figure size 640x480 with 1 Axes>"
      ]
     },
     "metadata": {},
     "output_type": "display_data"
    }
   ],
   "source": [
    "#plot test_batch\n",
    "plt.imshow(test_x0.squeeze().numpy(), cmap='gray')\n",
    "plt.show()"
   ]
  },
  {
   "cell_type": "code",
   "execution_count": null,
   "metadata": {},
   "outputs": [
    {
     "data": {
      "text/plain": [
       "tensor([[8.4147e-01, 5.3317e-01, 3.1098e-01, 1.7689e-01, 9.9833e-02, 5.6204e-02,\n",
       "         3.1618e-02, 1.7782e-02, 9.9998e-03, 5.6234e-03, 3.1623e-03, 1.7783e-03,\n",
       "         1.0000e-03, 5.6234e-04, 3.1623e-04, 1.7783e-04, 5.4030e-01, 8.4601e-01,\n",
       "         9.5042e-01, 9.8423e-01, 9.9500e-01, 9.9842e-01, 9.9950e-01, 9.9984e-01,\n",
       "         9.9995e-01, 9.9998e-01, 9.9999e-01, 1.0000e+00, 1.0000e+00, 1.0000e+00,\n",
       "         1.0000e+00, 1.0000e+00]])"
      ]
     },
     "execution_count": 6,
     "metadata": {},
     "output_type": "execute_result"
    }
   ],
   "source": [
    "emb_single"
   ]
  }
 ],
 "metadata": {
  "kernelspec": {
   "display_name": "deeplearning",
   "language": "python",
   "name": "python3"
  },
  "language_info": {
   "codemirror_mode": {
    "name": "ipython",
    "version": 3
   },
   "file_extension": ".py",
   "mimetype": "text/x-python",
   "name": "python",
   "nbconvert_exporter": "python",
   "pygments_lexer": "ipython3",
   "version": "3.10.14"
  }
 },
 "nbformat": 4,
 "nbformat_minor": 2
}
