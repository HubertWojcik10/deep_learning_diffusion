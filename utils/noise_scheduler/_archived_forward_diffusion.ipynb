{
 "cells": [
  {
   "cell_type": "markdown",
   "metadata": {},
   "source": [
    "The forward diffusion process adds Gaussian noise to a given image. It does so progressively and using the Markov chain, meaning that we have a noised version of the image at a timestep $t$ that depends only on the previous timestep $t-1$."
   ]
  },
  {
   "cell_type": "markdown",
   "metadata": {},
   "source": [
    "$q(x_t|x_{t-1})$ is the forward process, where an image is taken and its version with added noise is returned.\n",
    "* $x_0$ is the original image\n",
    "* $x_t$ is the noised version at a timestep $t$\n",
    "* $\\beta_t$ is the noise variance schedule which determines the amount of noise added at each timestep.\n",
    "    * so a set of variances B1, B2, … BT that govern the conditional normal distributions that make up the Markov chain\n",
    "    * the scheduler from the paper has 1000 time steps of linearly increasing variances starting at 1e-4 to 0.02\n",
    "\n",
    "The whoel forward process is a sequence where we gradually map our data X to pure noise:\n",
    "* $Norm_{z_t}[\\sqrt{1-\\beta_t}z_{t-1}, \\beta_tI]$ for each $t$\n",
    "\n",
    "The forward process is statis, meaning that we choose the noise schedule as a hyperparameter to the diffusion model and we don't train the forward process as it is already defined.\n",
    "\n",
    "One key property is that we can sample $x_t$ directly at any timestep given the original image $x_0$. Here $\\bar a_t$ is introduced as $1-\\beta$ and it's accumulated version that is the product of all $\\bar a_t$'s. This servers as a colse-form solutions for simpler implementation. Or explained as:\n",
    "\n",
    "\"The final key detail we have to know about the forward process is that because the distributions are normal, we can mathematically derive a distribution known as the “Diffusion Kernel” which is the distribution of any intermediate value in our forward process given our initial data point. This allows us to bypass all of the intermediate steps of iteratively adding t-1 levels of noise in the forward process to get an image with t noise which will come in handy later when we train our model. This is mathematically represented as: $q(z_t|x) = Norm_{z_t}[\\sqrt{a_t}* x,(1- a_t)I]$. \""
   ]
  },
  {
   "cell_type": "code",
   "execution_count": 28,
   "metadata": {},
   "outputs": [],
   "source": [
    "import torch\n",
    "from torchvision import datasets, transforms\n",
    "import numpy as np\n",
    "import matplotlib.pyplot as plt\n"
   ]
  },
  {
   "cell_type": "code",
   "execution_count": null,
   "metadata": {},
   "outputs": [],
   "source": [
    "# Defining the transformations; images are converted to [0,1] range and scaled to [-1, 1]\n",
    "# transform = transforms.Compose([transforms.ToTensor(), transforms.Normalize((0.5,), (0.5,))])\n",
    "\n",
    "# # Loading the MNIST training data\n",
    "# mnist_trainset = datasets.MNIST(root='./', train=True, download=True, transform=transform)\n",
    "# data_loader = torch.utils.data.DataLoader(mnist_trainset, batch_size=64, shuffle=True)\n",
    "\n",
    "# Loading the MNIST test data\n",
    "# mnist_testset = datasets.MNIST(root='./', train=False, download=True, transform=None)\n",
    "\n",
    "# from: https://www.datascienceweekly.org/tutorials/pytorch-mnist-load-mnist-dataset-from-pytorch-torchvision"
   ]
  },
  {
   "cell_type": "code",
   "execution_count": 30,
   "metadata": {},
   "outputs": [],
   "source": [
    "def forward_diffusion_sample(x_0, t, alpha_bar):\n",
    "    \"\"\"\n",
    "    This function samples x_t from q(x_t | x_0) by taking the original image, a timestep and a precomputed cumulative product. It returns an image with added Gaussian noise.\n",
    "\n",
    "    \"\"\"\n",
    "    # creating Gaussian noise; x_0 size tensor of random numbers from a uniform distribution [0,1)\n",
    "    noise = torch.randn_like(x_0)\n",
    "    \n",
    "    # computing the scaling factors\n",
    "    sqrt_alpha_bar_t = torch.sqrt(alpha_bar[t]).view(-1, 1, 1, 1)   # this information tells us how much of the original image remains after t steps of noising\n",
    "    sqrt_one_minus_alpha_bar_t = torch.sqrt(1 - alpha_bar[t]).view(-1, 1, 1, 1) # .view() changes the shape so that it fits (batch size, channels, height, width)\n",
    "\n",
    "    # forward process formula\n",
    "    x_t = sqrt_alpha_bar_t * x_0 + sqrt_one_minus_alpha_bar_t * noise\n",
    "\n",
    "    return x_t, noise"
   ]
  },
  {
   "cell_type": "markdown",
   "metadata": {},
   "source": [
    "So now the closed-form solution for sampling $x_t$ given $x_0$ is implemented: $x_t = \\sqrt{\\bar \\alpha_t} x_0 + \\sqrt{1 - \\bar \\alpha_t} * \\epsilon $.\n",
    "Here, $\\epsilon$ follows a normal distribution with mean 0 and std of 1.\n",
    "The intuition is that at each timestep $t$, the image is scaled down by the first scaling factor, and noise is added scalled by the second scalling factor."
   ]
  },
  {
   "cell_type": "code",
   "execution_count": 31,
   "metadata": {},
   "outputs": [],
   "source": [
    "# Defining the parameters as described in the paper\n",
    "\n",
    "T = 1000  # number of diffusion steps\n",
    "beta = torch.linspace(0.0001, 0.02, T)  # linear scheduler \n",
    "alpha = 1.0 - beta\n",
    "alpha_bar = torch.cumprod(alpha, dim=0)  # cumulative product of alphas at each timestep t"
   ]
  },
  {
   "cell_type": "code",
   "execution_count": 32,
   "metadata": {},
   "outputs": [
    {
     "data": {
      "text/plain": [
       "tensor(0.9998)"
      ]
     },
     "execution_count": 32,
     "metadata": {},
     "output_type": "execute_result"
    }
   ],
   "source": [
    "# alpha_bar\n",
    "sqrt_alpha_bar_t = torch.sqrt(alpha_bar[2])\n",
    "sqrt_alpha_bar_t"
   ]
  },
  {
   "cell_type": "code",
   "execution_count": 33,
   "metadata": {},
   "outputs": [
    {
     "data": {
      "image/png": "[encoded data removed]",
      "text/plain": [
       "<Figure size 720x360 with 10 Axes>"
      ]
     },
     "metadata": {
      "needs_background": "light"
     },
     "output_type": "display_data"
    }
   ],
   "source": [
    "# printing random images at random timesteps\n",
    "for batch in data_loader:\n",
    "    x_0, _ = batch\n",
    "    t = torch.randint(0, T, (x_0.size(0),))\n",
    "    x_t, _ = forward_diffusion_sample(x_0, t, alpha_bar)\n",
    "    \n",
    "    plt.figure(figsize=(10, 5))\n",
    "    for i in range(5):\n",
    "        plt.subplot(2, 5, i + 1)\n",
    "        plt.imshow(x_0[i].squeeze().cpu().numpy(), cmap='gray')\n",
    "        plt.title(\"Original\")\n",
    "        plt.axis('off')\n",
    "        \n",
    "        plt.subplot(2, 5, i + 6)\n",
    "        plt.imshow(x_t[i].squeeze().cpu().numpy(), cmap='gray')\n",
    "        plt.title(f\"Noisy (t={t[i].item()})\")\n",
    "        plt.axis('off')\n",
    "    plt.show()\n",
    "    break"
   ]
  }
 ],
 "metadata": {
  "kernelspec": {
   "display_name": "base",
   "language": "python",
   "name": "python3"
  },
  "language_info": {
   "codemirror_mode": {
    "name": "ipython",
    "version": 3
   },
   "file_extension": ".py",
   "mimetype": "text/x-python",
   "name": "python",
   "nbconvert_exporter": "python",
   "pygments_lexer": "ipython3",
   "version": "3.9.12"
  }
 },
 "nbformat": 4,
 "nbformat_minor": 2
}
